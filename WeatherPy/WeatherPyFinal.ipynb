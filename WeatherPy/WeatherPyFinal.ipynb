{
 "cells": [
  {
   "cell_type": "markdown",
   "metadata": {},
   "source": [
    "# WeatherPy\n",
    "----\n",
    "\n",
    "#### Note\n",
    "* Instructions have been included for each segment. You do not have to follow them exactly, but they are included to help you think through the steps."
   ]
  },
  {
   "cell_type": "code",
   "execution_count": 1,
   "metadata": {
    "scrolled": true
   },
   "outputs": [],
   "source": [
    "# Dependencies and Setup\n",
    "import matplotlib.pyplot as plt\n",
    "import pandas as pd\n",
    "import numpy as np\n",
    "import requests\n",
    "import time\n",
    "from scipy.stats import linregress\n",
    "from datetime import datetime\n",
    "\n",
    "# Import API key\n",
    "from api_keys import weather_api_key\n",
    "\n",
    "# Incorporated citipy to determine city based on latitude and longitude\n",
    "from citipy import citipy\n",
    "\n",
    "# Output File (CSV)\n",
    "output_data_file = \"cities.csv\"\n",
    "\n",
    "# Range of latitudes and longitudes\n",
    "lat_range = (-90, 90)\n",
    "lng_range = (-180, 180)"
   ]
  },
  {
   "cell_type": "markdown",
   "metadata": {},
   "source": [
    "## Generate Cities List"
   ]
  },
  {
   "cell_type": "code",
   "execution_count": 2,
   "metadata": {},
   "outputs": [
    {
     "data": {
      "text/plain": [
       "615"
      ]
     },
     "execution_count": 2,
     "metadata": {},
     "output_type": "execute_result"
    }
   ],
   "source": [
    "# List for holding lat_lngs and cities\n",
    "lat_lngs = []\n",
    "cities = []\n",
    "\n",
    "# Create a set of random lat and lng combinations\n",
    "lats = np.random.uniform(low=-90.000, high=90.000, size=1500)\n",
    "lngs = np.random.uniform(low=-180.000, high=180.000, size=1500)\n",
    "lat_lngs = zip(lats, lngs)\n",
    "\n",
    "# Identify nearest city for each lat, lng combination\n",
    "for lat_lng in lat_lngs:\n",
    "    city = citipy.nearest_city(lat_lng[0], lat_lng[1]).city_name\n",
    "    \n",
    "    # If the city is unique, then add it to a our cities list\n",
    "    if city not in cities:\n",
    "        cities.append(city)\n",
    "\n",
    "# Print the city count to confirm sufficient count\n",
    "len(cities)"
   ]
  },
  {
   "cell_type": "markdown",
   "metadata": {},
   "source": [
    "### Perform API Calls\n",
    "* Perform a weather check on each city using a series of successive API calls.\n",
    "* Include a print log of each city as it'sbeing processed (with the city number and city name).\n"
   ]
  },
  {
   "cell_type": "code",
   "execution_count": 3,
   "metadata": {},
   "outputs": [],
   "source": [
    "#Define URL, Units(type desired). and query URL\n",
    "\n",
    "url = \"http://api.openweathermap.org/data/2.5/weather?\"\n",
    "units = \"Imperial\"\n",
    "query_url = f\"{url}appid={weather_api_key}&units={units}&q=\""
   ]
  },
  {
   "cell_type": "code",
   "execution_count": 4,
   "metadata": {},
   "outputs": [
    {
     "name": "stdout",
     "output_type": "stream",
     "text": [
      "Beginning Data Retrieval\n",
      "-------------------------\n",
      "City not found. Skipping...\n",
      "Processing Record 1 of Set 1 | barrow.\n",
      "Processing Record 2 of Set 1 | albany.\n",
      "Processing Record 3 of Set 1 | peniche.\n",
      "Processing Record 4 of Set 1 | buchanan.\n",
      "Processing Record 5 of Set 1 | uvira.\n",
      "Processing Record 6 of Set 1 | arraial do cabo.\n",
      "Processing Record 7 of Set 1 | chester.\n",
      "Processing Record 8 of Set 1 | puerto ayora.\n",
      "Processing Record 9 of Set 1 | khabary.\n",
      "Processing Record 10 of Set 1 | bluff.\n",
      "Processing Record 11 of Set 1 | yellowknife.\n",
      "Processing Record 12 of Set 1 | ceska lipa.\n",
      "Processing Record 13 of Set 1 | hobart.\n",
      "City not found. Skipping...\n",
      "City not found. Skipping...\n",
      "Processing Record 14 of Set 1 | provideniya.\n",
      "Processing Record 15 of Set 1 | khatanga.\n",
      "Processing Record 16 of Set 1 | warwick.\n",
      "Processing Record 17 of Set 1 | victoria.\n",
      "Processing Record 18 of Set 1 | libreville.\n",
      "Processing Record 19 of Set 1 | ushuaia.\n",
      "Processing Record 20 of Set 1 | surt.\n",
      "Processing Record 21 of Set 1 | santa catalina.\n",
      "Processing Record 22 of Set 1 | ilulissat.\n",
      "Processing Record 23 of Set 1 | mataura.\n",
      "Processing Record 24 of Set 1 | artsvaberd.\n",
      "Processing Record 25 of Set 1 | port alfred.\n",
      "City not found. Skipping...\n",
      "City not found. Skipping...\n",
      "Processing Record 26 of Set 1 | dikson.\n",
      "Processing Record 27 of Set 1 | butaritari.\n",
      "Processing Record 28 of Set 1 | kadhan.\n",
      "Processing Record 29 of Set 1 | batticaloa.\n",
      "Processing Record 30 of Set 1 | los llanos de aridane.\n",
      "Processing Record 31 of Set 1 | vaini.\n",
      "Processing Record 32 of Set 1 | aripuana.\n",
      "Processing Record 33 of Set 1 | aklavik.\n",
      "Processing Record 34 of Set 1 | beeville.\n",
      "Processing Record 35 of Set 1 | seymchan.\n",
      "Processing Record 36 of Set 1 | punta arenas.\n",
      "Processing Record 37 of Set 1 | port macquarie.\n",
      "Processing Record 38 of Set 1 | narsaq.\n",
      "Processing Record 39 of Set 1 | new norfolk.\n",
      "Processing Record 40 of Set 1 | tuktoyaktuk.\n",
      "Processing Record 41 of Set 1 | san cristobal.\n",
      "Processing Record 42 of Set 1 | saint-philippe.\n",
      "Processing Record 43 of Set 1 | mar del plata.\n",
      "Processing Record 44 of Set 1 | chumikan.\n",
      "Processing Record 45 of Set 1 | fortuna.\n",
      "Processing Record 46 of Set 1 | najran.\n",
      "Processing Record 47 of Set 1 | emerald.\n",
      "Processing Record 48 of Set 1 | marawi.\n",
      "Processing Record 49 of Set 1 | bengkulu.\n",
      "City not found. Skipping...\n",
      "Processing Record 1 of Set 2 | harper.\n",
      "Processing Record 2 of Set 2 | saint anthony.\n",
      "Processing Record 3 of Set 2 | mani.\n",
      "Processing Record 4 of Set 2 | cabo san lucas.\n",
      "Processing Record 5 of Set 2 | hamilton.\n",
      "Processing Record 6 of Set 2 | xam nua.\n",
      "Processing Record 7 of Set 2 | rikitea.\n",
      "Processing Record 8 of Set 2 | cap malheureux.\n",
      "Processing Record 9 of Set 2 | castro.\n",
      "Processing Record 10 of Set 2 | bonthe.\n",
      "Processing Record 11 of Set 2 | bredasdorp.\n",
      "Processing Record 12 of Set 2 | itoman.\n",
      "Processing Record 13 of Set 2 | bethel.\n",
      "City not found. Skipping...\n",
      "City not found. Skipping...\n",
      "Processing Record 14 of Set 2 | kahului.\n",
      "Processing Record 15 of Set 2 | busselton.\n",
      "Processing Record 16 of Set 2 | bambous virieux.\n",
      "Processing Record 17 of Set 2 | kapaa.\n",
      "Processing Record 18 of Set 2 | santa engracia.\n",
      "Processing Record 19 of Set 2 | mokhsogollokh.\n",
      "City not found. Skipping...\n",
      "Processing Record 20 of Set 2 | bossangoa.\n",
      "Processing Record 21 of Set 2 | saskylakh.\n",
      "Processing Record 22 of Set 2 | makakilo city.\n",
      "City not found. Skipping...\n",
      "Processing Record 23 of Set 2 | algiers.\n",
      "Processing Record 24 of Set 2 | clyde river.\n",
      "Processing Record 25 of Set 2 | nara.\n",
      "Processing Record 26 of Set 2 | ngunguru.\n",
      "Processing Record 27 of Set 2 | kawalu.\n",
      "Processing Record 28 of Set 2 | grants.\n",
      "Processing Record 29 of Set 2 | potanino.\n",
      "Processing Record 30 of Set 2 | nizhnyaya omka.\n",
      "Processing Record 31 of Set 2 | nuevo progreso.\n",
      "Processing Record 32 of Set 2 | biltine.\n",
      "Processing Record 33 of Set 2 | chuy.\n",
      "Processing Record 34 of Set 2 | georgetown.\n",
      "Processing Record 35 of Set 2 | kavieng.\n",
      "Processing Record 36 of Set 2 | mount gambier.\n",
      "Processing Record 37 of Set 2 | benguela.\n",
      "Processing Record 38 of Set 2 | puro.\n",
      "Processing Record 39 of Set 2 | los aquijes.\n",
      "Processing Record 40 of Set 2 | jumla.\n",
      "Processing Record 41 of Set 2 | saint george.\n",
      "Processing Record 42 of Set 2 | krasnoselkup.\n",
      "Processing Record 43 of Set 2 | souillac.\n",
      "Processing Record 44 of Set 2 | avarua.\n",
      "Processing Record 45 of Set 2 | maningrida.\n",
      "Processing Record 46 of Set 2 | magadi.\n",
      "Processing Record 47 of Set 2 | kanashevo.\n",
      "Processing Record 48 of Set 2 | fairbanks.\n",
      "Processing Record 49 of Set 2 | mehamn.\n",
      "Processing Record 1 of Set 3 | nikolskoye.\n",
      "City not found. Skipping...\n",
      "Processing Record 2 of Set 3 | jamestown.\n",
      "City not found. Skipping...\n",
      "Processing Record 3 of Set 3 | hermanus.\n",
      "Processing Record 4 of Set 3 | maracacume.\n",
      "City not found. Skipping...\n",
      "Processing Record 5 of Set 3 | sorong.\n",
      "Processing Record 6 of Set 3 | novaya igirma.\n",
      "Processing Record 7 of Set 3 | la ronge.\n",
      "Processing Record 8 of Set 3 | esperance.\n",
      "Processing Record 9 of Set 3 | palu.\n",
      "City not found. Skipping...\n",
      "City not found. Skipping...\n",
      "Processing Record 10 of Set 3 | vengerovo.\n",
      "Processing Record 11 of Set 3 | port lincoln.\n",
      "Processing Record 12 of Set 3 | san patricio.\n",
      "Processing Record 13 of Set 3 | xiaoweizhai.\n",
      "City not found. Skipping...\n",
      "Processing Record 14 of Set 3 | jaque.\n",
      "Processing Record 15 of Set 3 | kruisfontein.\n",
      "Processing Record 16 of Set 3 | bridlington.\n",
      "Processing Record 17 of Set 3 | valenca.\n",
      "Processing Record 18 of Set 3 | kaitangata.\n",
      "Processing Record 19 of Set 3 | arcachon.\n",
      "City not found. Skipping...\n",
      "Processing Record 20 of Set 3 | ponta do sol.\n",
      "Processing Record 21 of Set 3 | lasa.\n",
      "Processing Record 22 of Set 3 | lebu.\n",
      "Processing Record 23 of Set 3 | chinhoyi.\n",
      "Processing Record 24 of Set 3 | upernavik.\n",
      "City not found. Skipping...\n",
      "Processing Record 25 of Set 3 | lorengau.\n",
      "Processing Record 26 of Set 3 | luderitz.\n",
      "Processing Record 27 of Set 3 | gravdal.\n",
      "Processing Record 28 of Set 3 | edremit.\n",
      "Processing Record 29 of Set 3 | cape town.\n",
      "Processing Record 30 of Set 3 | santa cruz.\n",
      "City not found. Skipping...\n",
      "City not found. Skipping...\n",
      "Processing Record 31 of Set 3 | chernyanka.\n",
      "Processing Record 32 of Set 3 | avera.\n",
      "Processing Record 33 of Set 3 | qaanaaq.\n",
      "Processing Record 34 of Set 3 | bandarbeyla.\n",
      "Processing Record 35 of Set 3 | atuona.\n",
      "Processing Record 36 of Set 3 | mazamari.\n",
      "Processing Record 37 of Set 3 | naryan-mar.\n",
      "Processing Record 38 of Set 3 | talnakh.\n",
      "Processing Record 39 of Set 3 | tommot.\n",
      "Processing Record 40 of Set 3 | milkovo.\n",
      "Processing Record 41 of Set 3 | hasaki.\n",
      "Processing Record 42 of Set 3 | coquimbo.\n",
      "Processing Record 43 of Set 3 | ulaanbaatar.\n",
      "Processing Record 44 of Set 3 | port blair.\n",
      "Processing Record 45 of Set 3 | limon.\n",
      "Processing Record 46 of Set 3 | brumunddal.\n",
      "Processing Record 47 of Set 3 | hailar.\n",
      "Processing Record 48 of Set 3 | kodinsk.\n",
      "Processing Record 49 of Set 3 | deep river.\n",
      "Processing Record 1 of Set 4 | kulhudhuffushi.\n",
      "Processing Record 2 of Set 4 | kalamare.\n",
      "Processing Record 3 of Set 4 | bambanglipuro.\n",
      "Processing Record 4 of Set 4 | mineiros.\n",
      "Processing Record 5 of Set 4 | saint-augustin.\n",
      "Processing Record 6 of Set 4 | pawa.\n",
      "City not found. Skipping...\n",
      "Processing Record 7 of Set 4 | dwarka.\n",
      "Processing Record 8 of Set 4 | codrington.\n",
      "Processing Record 9 of Set 4 | tasiilaq.\n",
      "Processing Record 10 of Set 4 | kisangani.\n",
      "Processing Record 11 of Set 4 | guerrero negro.\n",
      "Processing Record 12 of Set 4 | grand gaube.\n",
      "Processing Record 13 of Set 4 | ginir.\n",
      "Processing Record 14 of Set 4 | tura.\n",
      "Processing Record 15 of Set 4 | lompoc.\n",
      "Processing Record 16 of Set 4 | katherine.\n",
      "Processing Record 17 of Set 4 | san juan.\n",
      "City not found. Skipping...\n",
      "Processing Record 18 of Set 4 | campos sales.\n",
      "Processing Record 19 of Set 4 | belmonte.\n",
      "Processing Record 20 of Set 4 | norman wells.\n",
      "City not found. Skipping...\n",
      "Processing Record 21 of Set 4 | kloulklubed.\n",
      "Processing Record 22 of Set 4 | anadyr.\n",
      "Processing Record 23 of Set 4 | ancud.\n",
      "Processing Record 24 of Set 4 | airai.\n",
      "Processing Record 25 of Set 4 | oktyabrskoye.\n",
      "Processing Record 26 of Set 4 | caravelas.\n",
      "Processing Record 27 of Set 4 | hilo.\n",
      "Processing Record 28 of Set 4 | surgut.\n",
      "Processing Record 29 of Set 4 | sorland.\n",
      "Processing Record 30 of Set 4 | wawa.\n",
      "Processing Record 31 of Set 4 | kenmare.\n"
     ]
    },
    {
     "name": "stdout",
     "output_type": "stream",
     "text": [
      "Processing Record 32 of Set 4 | port elizabeth.\n",
      "Processing Record 33 of Set 4 | svetlyy.\n",
      "Processing Record 34 of Set 4 | saldanha.\n",
      "Processing Record 35 of Set 4 | sao filipe.\n",
      "Processing Record 36 of Set 4 | kodiak.\n",
      "Processing Record 37 of Set 4 | half moon bay.\n",
      "Processing Record 38 of Set 4 | kenai.\n",
      "Processing Record 39 of Set 4 | hay river.\n",
      "Processing Record 40 of Set 4 | necochea.\n",
      "Processing Record 41 of Set 4 | alice springs.\n",
      "Processing Record 42 of Set 4 | gat.\n",
      "Processing Record 43 of Set 4 | tazovskiy.\n",
      "Processing Record 44 of Set 4 | ahuimanu.\n",
      "Processing Record 45 of Set 4 | prince albert.\n",
      "Processing Record 46 of Set 4 | shimoda.\n",
      "Processing Record 47 of Set 4 | ust-barguzin.\n",
      "Processing Record 48 of Set 4 | tuatapere.\n",
      "Processing Record 49 of Set 4 | northam.\n",
      "Processing Record 1 of Set 5 | cayenne.\n",
      "Processing Record 2 of Set 5 | quatre cocos.\n",
      "Processing Record 3 of Set 5 | longyearbyen.\n",
      "Processing Record 4 of Set 5 | torbay.\n",
      "Processing Record 5 of Set 5 | camargo.\n",
      "Processing Record 6 of Set 5 | koroni.\n",
      "Processing Record 7 of Set 5 | barreiras.\n",
      "Processing Record 8 of Set 5 | luga.\n",
      "Processing Record 9 of Set 5 | san francisco.\n",
      "Processing Record 10 of Set 5 | russell.\n",
      "Processing Record 11 of Set 5 | tiznit.\n",
      "Processing Record 12 of Set 5 | verkhoturye.\n",
      "Processing Record 13 of Set 5 | mahebourg.\n",
      "Processing Record 14 of Set 5 | ziro.\n",
      "Processing Record 15 of Set 5 | lavrentiya.\n",
      "Processing Record 16 of Set 5 | matamoros.\n",
      "Processing Record 17 of Set 5 | laguna.\n",
      "Processing Record 18 of Set 5 | palana.\n",
      "Processing Record 19 of Set 5 | carnarvon.\n",
      "Processing Record 20 of Set 5 | san policarpo.\n",
      "Processing Record 21 of Set 5 | valtice.\n",
      "Processing Record 22 of Set 5 | karratha.\n",
      "Processing Record 23 of Set 5 | yeniseysk.\n",
      "Processing Record 24 of Set 5 | ahome.\n",
      "Processing Record 25 of Set 5 | hithadhoo.\n",
      "Processing Record 26 of Set 5 | khorramshahr.\n",
      "Processing Record 27 of Set 5 | sao joao da barra.\n",
      "Processing Record 28 of Set 5 | pevek.\n",
      "Processing Record 29 of Set 5 | morgan city.\n",
      "City not found. Skipping...\n",
      "Processing Record 30 of Set 5 | bushehr.\n",
      "Processing Record 31 of Set 5 | nekhayevskiy.\n",
      "Processing Record 32 of Set 5 | kralendijk.\n",
      "Processing Record 33 of Set 5 | geraldton.\n",
      "Processing Record 34 of Set 5 | vestmannaeyjar.\n",
      "Processing Record 35 of Set 5 | presov.\n",
      "Processing Record 36 of Set 5 | mangit.\n",
      "Processing Record 37 of Set 5 | beloha.\n",
      "Processing Record 38 of Set 5 | sakaiminato.\n",
      "Processing Record 39 of Set 5 | cidreira.\n",
      "Processing Record 40 of Set 5 | ottawa.\n",
      "Processing Record 41 of Set 5 | tucuma.\n",
      "Processing Record 42 of Set 5 | bairiki.\n",
      "Processing Record 43 of Set 5 | araxa.\n",
      "Processing Record 44 of Set 5 | luang prabang.\n",
      "Processing Record 45 of Set 5 | coihaique.\n",
      "Processing Record 46 of Set 5 | mendi.\n",
      "Processing Record 47 of Set 5 | sohag.\n",
      "Processing Record 48 of Set 5 | arica.\n",
      "Processing Record 49 of Set 5 | otavi.\n",
      "Processing Record 1 of Set 6 | manokwari.\n",
      "City not found. Skipping...\n",
      "Processing Record 2 of Set 6 | kamenka.\n",
      "Processing Record 3 of Set 6 | te anau.\n",
      "City not found. Skipping...\n",
      "Processing Record 4 of Set 6 | le mars.\n",
      "City not found. Skipping...\n",
      "Processing Record 5 of Set 6 | katsuura.\n",
      "Processing Record 6 of Set 6 | ribeira grande.\n",
      "City not found. Skipping...\n",
      "City not found. Skipping...\n",
      "Processing Record 7 of Set 6 | torit.\n",
      "Processing Record 8 of Set 6 | bella union.\n",
      "Processing Record 9 of Set 6 | east london.\n",
      "Processing Record 10 of Set 6 | puerto narino.\n",
      "Processing Record 11 of Set 6 | pajapan.\n",
      "Processing Record 12 of Set 6 | kopavogur.\n",
      "City not found. Skipping...\n",
      "Processing Record 13 of Set 6 | belaya gora.\n",
      "Processing Record 14 of Set 6 | gobabis.\n",
      "Processing Record 15 of Set 6 | glowno.\n",
      "Processing Record 16 of Set 6 | chala.\n",
      "Processing Record 17 of Set 6 | nyurba.\n",
      "Processing Record 18 of Set 6 | okha.\n",
      "Processing Record 19 of Set 6 | salinas.\n",
      "Processing Record 20 of Set 6 | camacha.\n",
      "Processing Record 21 of Set 6 | wakkanai.\n",
      "City not found. Skipping...\n",
      "Processing Record 22 of Set 6 | tiruchchendur.\n",
      "City not found. Skipping...\n",
      "Processing Record 23 of Set 6 | namibe.\n",
      "Processing Record 24 of Set 6 | itarema.\n",
      "Processing Record 25 of Set 6 | chokurdakh.\n",
      "Processing Record 26 of Set 6 | tual.\n",
      "Processing Record 27 of Set 6 | saint-georges.\n",
      "Processing Record 28 of Set 6 | buala.\n",
      "Processing Record 29 of Set 6 | ville-marie.\n",
      "Processing Record 30 of Set 6 | bardiyah.\n",
      "Processing Record 31 of Set 6 | cap-aux-meules.\n",
      "Processing Record 32 of Set 6 | bathsheba.\n",
      "Processing Record 33 of Set 6 | dingle.\n",
      "Processing Record 34 of Set 6 | cooma.\n",
      "Processing Record 35 of Set 6 | manavalakurichi.\n",
      "Processing Record 36 of Set 6 | komsomolets.\n",
      "Processing Record 37 of Set 6 | leh.\n",
      "Processing Record 38 of Set 6 | yumen.\n",
      "Processing Record 39 of Set 6 | westport.\n",
      "Processing Record 40 of Set 6 | pemangkat.\n",
      "Processing Record 41 of Set 6 | zyryanka.\n",
      "Processing Record 42 of Set 6 | aginskoye.\n",
      "Processing Record 43 of Set 6 | ambulu.\n",
      "City not found. Skipping...\n",
      "Processing Record 44 of Set 6 | tiksi.\n",
      "Processing Record 45 of Set 6 | hambantota.\n",
      "Processing Record 46 of Set 6 | boca do acre.\n",
      "Processing Record 47 of Set 6 | vilela.\n",
      "Processing Record 48 of Set 6 | kungurtug.\n",
      "Processing Record 49 of Set 6 | banda aceh.\n",
      "Processing Record 1 of Set 7 | constantine.\n",
      "Processing Record 2 of Set 7 | thompson.\n",
      "Processing Record 3 of Set 7 | ayna.\n",
      "Processing Record 4 of Set 7 | gushikawa.\n",
      "Processing Record 5 of Set 7 | ukiah.\n",
      "Processing Record 6 of Set 7 | kutum.\n",
      "Processing Record 7 of Set 7 | dalian.\n",
      "City not found. Skipping...\n",
      "Processing Record 8 of Set 7 | oranjemund.\n",
      "City not found. Skipping...\n",
      "Processing Record 9 of Set 7 | riverton.\n",
      "Processing Record 10 of Set 7 | indiaroba.\n",
      "Processing Record 11 of Set 7 | yanam.\n",
      "Processing Record 12 of Set 7 | topolobampo.\n",
      "Processing Record 13 of Set 7 | vanimo.\n",
      "City not found. Skipping...\n",
      "Processing Record 14 of Set 7 | alihe.\n",
      "Processing Record 15 of Set 7 | dali.\n",
      "Processing Record 16 of Set 7 | jawa.\n",
      "Processing Record 17 of Set 7 | wanning.\n",
      "Processing Record 18 of Set 7 | yelizovo.\n",
      "Processing Record 19 of Set 7 | port hedland.\n",
      "City not found. Skipping...\n",
      "Processing Record 20 of Set 7 | chaihe.\n",
      "Processing Record 21 of Set 7 | manaure.\n",
      "Processing Record 22 of Set 7 | pulandian.\n",
      "Processing Record 23 of Set 7 | ciudad bolivar.\n",
      "Processing Record 24 of Set 7 | margate.\n",
      "Processing Record 25 of Set 7 | vao.\n",
      "Processing Record 26 of Set 7 | silopi.\n",
      "Processing Record 27 of Set 7 | sawang daen din.\n",
      "Processing Record 28 of Set 7 | kirgiz-miyaki.\n",
      "Processing Record 29 of Set 7 | cururupu.\n",
      "City not found. Skipping...\n",
      "Processing Record 30 of Set 7 | broken hill.\n",
      "Processing Record 31 of Set 7 | lagoa.\n",
      "City not found. Skipping...\n",
      "Processing Record 32 of Set 7 | bohuslav.\n",
      "City not found. Skipping...\n",
      "Processing Record 33 of Set 7 | petropavl.\n",
      "Processing Record 34 of Set 7 | lexington.\n",
      "Processing Record 35 of Set 7 | storforshei.\n",
      "Processing Record 36 of Set 7 | pecos.\n",
      "Processing Record 37 of Set 7 | nishihara.\n",
      "City not found. Skipping...\n",
      "Processing Record 38 of Set 7 | hovd.\n",
      "Processing Record 39 of Set 7 | mayumba.\n",
      "City not found. Skipping...\n",
      "Processing Record 40 of Set 7 | zhigansk.\n",
      "Processing Record 41 of Set 7 | zychlin.\n",
      "City not found. Skipping...\n",
      "City not found. Skipping...\n",
      "Processing Record 42 of Set 7 | maravilha.\n",
      "City not found. Skipping...\n",
      "Processing Record 43 of Set 7 | chicama.\n",
      "Processing Record 44 of Set 7 | ust-omchug.\n",
      "Processing Record 45 of Set 7 | comodoro rivadavia.\n",
      "Processing Record 46 of Set 7 | brebeni.\n",
      "Processing Record 47 of Set 7 | vilyuysk.\n",
      "Processing Record 48 of Set 7 | honiara.\n",
      "Processing Record 49 of Set 7 | ilhabela.\n",
      "Processing Record 1 of Set 8 | bilgoraj.\n",
      "Processing Record 2 of Set 8 | puerto suarez.\n",
      "Processing Record 3 of Set 8 | leningradskiy.\n",
      "Processing Record 4 of Set 8 | mount isa.\n",
      "Processing Record 5 of Set 8 | andenes.\n",
      "Processing Record 6 of Set 8 | slave lake.\n",
      "Processing Record 7 of Set 8 | lastoursville.\n",
      "Processing Record 8 of Set 8 | isangel.\n",
      "Processing Record 9 of Set 8 | cockburn town.\n",
      "Processing Record 10 of Set 8 | ayr.\n",
      "Processing Record 11 of Set 8 | mayaguez.\n",
      "Processing Record 12 of Set 8 | sobolevo.\n",
      "Processing Record 13 of Set 8 | wajid.\n",
      "Processing Record 14 of Set 8 | okhotsk.\n",
      "Processing Record 15 of Set 8 | flinders.\n",
      "Processing Record 16 of Set 8 | baruun-urt.\n",
      "City not found. Skipping...\n"
     ]
    },
    {
     "name": "stdout",
     "output_type": "stream",
     "text": [
      "Processing Record 17 of Set 8 | nemuro.\n",
      "Processing Record 18 of Set 8 | quelimane.\n",
      "Processing Record 19 of Set 8 | miraflores.\n",
      "Processing Record 20 of Set 8 | bela.\n",
      "Processing Record 21 of Set 8 | nantucket.\n",
      "Processing Record 22 of Set 8 | saint-joseph.\n",
      "Processing Record 23 of Set 8 | raudeberg.\n",
      "Processing Record 24 of Set 8 | padang.\n",
      "Processing Record 25 of Set 8 | sola.\n",
      "Processing Record 26 of Set 8 | parabel.\n",
      "City not found. Skipping...\n",
      "Processing Record 27 of Set 8 | karangampel.\n",
      "Processing Record 28 of Set 8 | robertsport.\n",
      "Processing Record 29 of Set 8 | upington.\n",
      "Processing Record 30 of Set 8 | poum.\n",
      "Processing Record 31 of Set 8 | pemba.\n",
      "Processing Record 32 of Set 8 | ler.\n",
      "Processing Record 33 of Set 8 | kieta.\n",
      "Processing Record 34 of Set 8 | barra dos coqueiros.\n",
      "Processing Record 35 of Set 8 | churapcha.\n",
      "Processing Record 36 of Set 8 | hatillo.\n",
      "Processing Record 37 of Set 8 | batemans bay.\n",
      "Processing Record 38 of Set 8 | roma.\n",
      "Processing Record 39 of Set 8 | sibenik.\n",
      "Processing Record 40 of Set 8 | vila velha.\n",
      "Processing Record 41 of Set 8 | kobryn.\n",
      "Processing Record 42 of Set 8 | sibolga.\n",
      "Processing Record 43 of Set 8 | emirdag.\n",
      "Processing Record 44 of Set 8 | svetlogorsk.\n",
      "Processing Record 45 of Set 8 | nan.\n",
      "Processing Record 46 of Set 8 | kursenai.\n",
      "Processing Record 47 of Set 8 | udachnyy.\n",
      "Processing Record 48 of Set 8 | wenling.\n",
      "Processing Record 49 of Set 8 | kyabe.\n",
      "Processing Record 1 of Set 9 | cuyo.\n",
      "Processing Record 2 of Set 9 | kamiiso.\n",
      "Processing Record 3 of Set 9 | atar.\n",
      "Processing Record 4 of Set 9 | lucea.\n",
      "Processing Record 5 of Set 9 | touros.\n",
      "Processing Record 6 of Set 9 | san andres.\n",
      "Processing Record 7 of Set 9 | rio gallegos.\n",
      "Processing Record 8 of Set 9 | hammerfest.\n",
      "Processing Record 9 of Set 9 | rocha.\n",
      "Processing Record 10 of Set 9 | coolum beach.\n",
      "Processing Record 11 of Set 9 | bar-le-duc.\n",
      "Processing Record 12 of Set 9 | tezpur.\n",
      "Processing Record 13 of Set 9 | seoul.\n",
      "Processing Record 14 of Set 9 | puerto ayacucho.\n",
      "Processing Record 15 of Set 9 | houma.\n",
      "Processing Record 16 of Set 9 | yarada.\n",
      "Processing Record 17 of Set 9 | cherskiy.\n",
      "Processing Record 18 of Set 9 | usinsk.\n",
      "Processing Record 19 of Set 9 | hibbing.\n",
      "Processing Record 20 of Set 9 | portree.\n",
      "Processing Record 21 of Set 9 | pisco.\n",
      "Processing Record 22 of Set 9 | tobol.\n",
      "Processing Record 23 of Set 9 | nome.\n",
      "Processing Record 24 of Set 9 | bollnas.\n",
      "Processing Record 25 of Set 9 | qax.\n",
      "Processing Record 26 of Set 9 | ngerengere.\n",
      "Processing Record 27 of Set 9 | nanortalik.\n",
      "Processing Record 28 of Set 9 | payson.\n",
      "Processing Record 29 of Set 9 | midland.\n",
      "Processing Record 30 of Set 9 | gigmoto.\n",
      "Processing Record 31 of Set 9 | campohermoso.\n",
      "Processing Record 32 of Set 9 | faanui.\n",
      "Processing Record 33 of Set 9 | kirakira.\n",
      "Processing Record 34 of Set 9 | almeirim.\n",
      "Processing Record 35 of Set 9 | paamiut.\n",
      "Processing Record 36 of Set 9 | toowoomba.\n",
      "Processing Record 37 of Set 9 | vilya.\n",
      "Processing Record 38 of Set 9 | chokwe.\n",
      "Processing Record 39 of Set 9 | onguday.\n",
      "Processing Record 40 of Set 9 | dryden.\n",
      "Processing Record 41 of Set 9 | akdepe.\n",
      "City not found. Skipping...\n",
      "Processing Record 42 of Set 9 | podyuga.\n",
      "City not found. Skipping...\n",
      "Processing Record 43 of Set 9 | teahupoo.\n",
      "Processing Record 44 of Set 9 | yablochnyy.\n",
      "Processing Record 45 of Set 9 | portland.\n",
      "Processing Record 46 of Set 9 | mitsamiouli.\n",
      "Processing Record 47 of Set 9 | luganville.\n",
      "Processing Record 48 of Set 9 | adrar.\n",
      "Processing Record 49 of Set 9 | tambacounda.\n",
      "Processing Record 1 of Set 10 | byron bay.\n",
      "Processing Record 2 of Set 10 | bud.\n",
      "Processing Record 3 of Set 10 | kokoda.\n",
      "Processing Record 4 of Set 10 | warrnambool.\n",
      "Processing Record 5 of Set 10 | huilong.\n",
      "Processing Record 6 of Set 10 | wexford.\n",
      "Processing Record 7 of Set 10 | turan.\n",
      "Processing Record 8 of Set 10 | yankton.\n",
      "Processing Record 9 of Set 10 | nelson bay.\n",
      "Processing Record 10 of Set 10 | saurimo.\n",
      "Processing Record 11 of Set 10 | lensk.\n",
      "Processing Record 12 of Set 10 | murgab.\n",
      "Processing Record 13 of Set 10 | ghanzi.\n",
      "Processing Record 14 of Set 10 | bar harbor.\n",
      "Processing Record 15 of Set 10 | kologriv.\n",
      "Processing Record 16 of Set 10 | hearst.\n",
      "Processing Record 17 of Set 10 | geesthacht.\n",
      "Processing Record 18 of Set 10 | dunedin.\n",
      "Processing Record 19 of Set 10 | ozernovskiy.\n",
      "Processing Record 20 of Set 10 | husavik.\n",
      "Processing Record 21 of Set 10 | joshimath.\n",
      "Processing Record 22 of Set 10 | micheweni.\n",
      "Processing Record 23 of Set 10 | wynyard.\n",
      "Processing Record 24 of Set 10 | yar-sale.\n",
      "Processing Record 25 of Set 10 | berlevag.\n",
      "Processing Record 26 of Set 10 | mondeville.\n",
      "Processing Record 27 of Set 10 | samarinda.\n",
      "Processing Record 28 of Set 10 | ketchikan.\n",
      "Processing Record 29 of Set 10 | gurupi.\n",
      "Processing Record 30 of Set 10 | richards bay.\n",
      "Processing Record 31 of Set 10 | praia da vitoria.\n",
      "Processing Record 32 of Set 10 | treinta y tres.\n",
      "Processing Record 33 of Set 10 | dubrovka.\n",
      "Processing Record 34 of Set 10 | faya.\n",
      "Processing Record 35 of Set 10 | saint-louis.\n",
      "Processing Record 36 of Set 10 | onega.\n",
      "Processing Record 37 of Set 10 | crucisor.\n",
      "Processing Record 38 of Set 10 | cheney.\n",
      "Processing Record 39 of Set 10 | gizo.\n",
      "City not found. Skipping...\n",
      "Processing Record 40 of Set 10 | belize.\n",
      "Processing Record 41 of Set 10 | norwalk.\n",
      "Processing Record 42 of Set 10 | mirnyy.\n",
      "Processing Record 43 of Set 10 | skjervoy.\n",
      "Processing Record 44 of Set 10 | mogadishu.\n",
      "Processing Record 45 of Set 10 | dauriya.\n",
      "Processing Record 46 of Set 10 | cacoal.\n",
      "City not found. Skipping...\n",
      "Processing Record 47 of Set 10 | aras.\n",
      "Processing Record 48 of Set 10 | breves.\n",
      "Processing Record 49 of Set 10 | garden city.\n",
      "Processing Record 1 of Set 11 | kushmurun.\n",
      "Processing Record 2 of Set 11 | ust-nera.\n",
      "Processing Record 3 of Set 11 | nhulunbuy.\n",
      "Processing Record 4 of Set 11 | tibati.\n",
      "Processing Record 5 of Set 11 | gawler.\n",
      "Processing Record 6 of Set 11 | suez.\n",
      "Processing Record 7 of Set 11 | kastamonu.\n",
      "City not found. Skipping...\n",
      "Processing Record 8 of Set 11 | garoua.\n",
      "Processing Record 9 of Set 11 | riyadh.\n",
      "Processing Record 10 of Set 11 | hailin.\n",
      "Processing Record 11 of Set 11 | jiazi.\n",
      "Processing Record 12 of Set 11 | preston.\n",
      "Processing Record 13 of Set 11 | kargil.\n",
      "Processing Record 14 of Set 11 | nazarovo.\n",
      "Processing Record 15 of Set 11 | broome.\n",
      "Processing Record 16 of Set 11 | alofi.\n",
      "Processing Record 17 of Set 11 | liaqatabad.\n",
      "Processing Record 18 of Set 11 | bohdan.\n",
      "Processing Record 19 of Set 11 | saint-prosper.\n",
      "Processing Record 20 of Set 11 | wagar.\n",
      "Processing Record 21 of Set 11 | fuzhou.\n",
      "Processing Record 22 of Set 11 | kidal.\n",
      "Processing Record 23 of Set 11 | naze.\n",
      "Processing Record 24 of Set 11 | aljezur.\n",
      "Processing Record 25 of Set 11 | tecoman.\n",
      "Processing Record 26 of Set 11 | ituiutaba.\n",
      "Processing Record 27 of Set 11 | kuliyapitiya.\n",
      "Processing Record 28 of Set 11 | astoria.\n",
      "City not found. Skipping...\n",
      "City not found. Skipping...\n",
      "City not found. Skipping...\n",
      "Processing Record 29 of Set 11 | tagusao.\n",
      "Processing Record 30 of Set 11 | puerto carreno.\n",
      "Processing Record 31 of Set 11 | mandera.\n",
      "Processing Record 32 of Set 11 | mecca.\n",
      "Processing Record 33 of Set 11 | susangerd.\n",
      "Processing Record 34 of Set 11 | bambari.\n",
      "City not found. Skipping...\n",
      "Processing Record 35 of Set 11 | ugoofaaru.\n",
      "Processing Record 36 of Set 11 | progreso.\n",
      "City not found. Skipping...\n",
      "Processing Record 37 of Set 11 | sao geraldo do araguaia.\n",
      "Processing Record 38 of Set 11 | kitimat.\n",
      "Processing Record 39 of Set 11 | olafsvik.\n",
      "City not found. Skipping...\n",
      "Processing Record 40 of Set 11 | nanhai.\n",
      "Processing Record 41 of Set 11 | opuwo.\n",
      "Processing Record 42 of Set 11 | valdivia.\n",
      "City not found. Skipping...\n",
      "Processing Record 43 of Set 11 | bell ville.\n",
      "Processing Record 44 of Set 11 | tiradentes.\n",
      "City not found. Skipping...\n",
      "Processing Record 45 of Set 11 | porto novo.\n",
      "Processing Record 46 of Set 11 | okhtyrka.\n",
      "Processing Record 47 of Set 11 | marsa matruh.\n",
      "Processing Record 48 of Set 11 | srednekolymsk.\n",
      "Processing Record 49 of Set 11 | wajima.\n",
      "Processing Record 1 of Set 12 | jacksonville.\n",
      "Processing Record 2 of Set 12 | kosa.\n",
      "Processing Record 3 of Set 12 | gorontalo.\n",
      "Processing Record 4 of Set 12 | tacna.\n",
      "Processing Record 5 of Set 12 | deputatskiy.\n",
      "Processing Record 6 of Set 12 | dorado.\n",
      "City not found. Skipping...\n",
      "Processing Record 7 of Set 12 | port hardy.\n"
     ]
    },
    {
     "name": "stdout",
     "output_type": "stream",
     "text": [
      "Processing Record 8 of Set 12 | severo-kurilsk.\n",
      "Processing Record 9 of Set 12 | alexandria.\n",
      "Processing Record 10 of Set 12 | arvika.\n",
      "City not found. Skipping...\n",
      "Processing Record 11 of Set 12 | oussouye.\n",
      "Processing Record 12 of Set 12 | bubaque.\n",
      "Processing Record 13 of Set 12 | xichang.\n",
      "Processing Record 14 of Set 12 | zhuhai.\n",
      "-----------------------\n",
      "Data Retrieval Complete\n",
      "-----------------------\n"
     ]
    }
   ],
   "source": [
    "#Run on one, then a small sample to test (include one that doesn't exist) *comment out to run full dataset*\n",
    "#cities = [\"Paris\", \"London\", \"New York\", \"Sydney\", \"Buenos Aires\", \"Gretelcity\"]\n",
    "#DO NOT RUN THIS CELL AGAIN AFTER FINAL RUN TO AVOID API KEY LOCK\n",
    "\n",
    "#Create empty lists to hold retrieved weather data\n",
    "c = 1\n",
    "rec = 1\n",
    "city_name = []\n",
    "cloudiness = []\n",
    "country = []\n",
    "date = []\n",
    "humidity = []\n",
    "lat = []\n",
    "lon = []\n",
    "temp = []\n",
    "maxTemp = []\n",
    "windSpeed = []\n",
    "\n",
    "\n",
    "\n",
    "# Loop through the list of cities and perform a request for data on each\n",
    "# Include an exception for cities not found\n",
    "# Include a print log\n",
    "\n",
    "print(\"Beginning Data Retrieval\")\n",
    "print(\"-------------------------\")\n",
    "for city in cities:\n",
    "    response = requests.get(query_url + city).json()\n",
    "    try:\n",
    "        city_name.append(response[\"name\"])\n",
    "        cloudiness.append(response[\"clouds\"][\"all\"])\n",
    "        country.append(response[\"sys\"][\"country\"])\n",
    "        date.append(response['dt'])\n",
    "        humidity.append(response['main']['humidity'])\n",
    "        lat.append(response['coord']['lat'])\n",
    "        lon.append(response['coord']['lon'])\n",
    "        temp.append(response['main']['temp'])\n",
    "        maxTemp.append(response['main']['temp_max'])\n",
    "        windSpeed.append(response['wind']['speed'])\n",
    "        print(f\"Processing Record {c} of Set {rec} | {city}.\")\n",
    "        c = c + 1\n",
    "        if c == 50:\n",
    "            rec = rec + 1\n",
    "            c = 1\n",
    "            time.sleep(60)\n",
    "    except(KeyError):\n",
    "        print(\"City not found. Skipping...\")\n",
    "        \n",
    "    #print(response)\n",
    "print(\"-----------------------\")  \n",
    "print(\"Data Retrieval Complete\")\n",
    "print(\"-----------------------\")  \n"
   ]
  },
  {
   "cell_type": "markdown",
   "metadata": {},
   "source": [
    "### Convert Raw Data to DataFrame\n",
    "* Export the city data into a .csv.\n",
    "* Display the DataFrame"
   ]
  },
  {
   "cell_type": "code",
   "execution_count": 6,
   "metadata": {},
   "outputs": [
    {
     "data": {
      "text/html": [
       "<div>\n",
       "<style scoped>\n",
       "    .dataframe tbody tr th:only-of-type {\n",
       "        vertical-align: middle;\n",
       "    }\n",
       "\n",
       "    .dataframe tbody tr th {\n",
       "        vertical-align: top;\n",
       "    }\n",
       "\n",
       "    .dataframe thead th {\n",
       "        text-align: right;\n",
       "    }\n",
       "</style>\n",
       "<table border=\"1\" class=\"dataframe\">\n",
       "  <thead>\n",
       "    <tr style=\"text-align: right;\">\n",
       "      <th></th>\n",
       "      <th>City</th>\n",
       "      <th>Date</th>\n",
       "      <th>Country</th>\n",
       "      <th>Lat</th>\n",
       "      <th>Lon</th>\n",
       "      <th>Temp</th>\n",
       "      <th>Max Temp</th>\n",
       "      <th>Humidity</th>\n",
       "      <th>Wind Speed</th>\n",
       "      <th>Cloudiness</th>\n",
       "    </tr>\n",
       "  </thead>\n",
       "  <tbody>\n",
       "    <tr>\n",
       "      <th>0</th>\n",
       "      <td>Barrow</td>\n",
       "      <td>1586804898</td>\n",
       "      <td>US</td>\n",
       "      <td>71.29</td>\n",
       "      <td>-156.79</td>\n",
       "      <td>23.00</td>\n",
       "      <td>23.00</td>\n",
       "      <td>92</td>\n",
       "      <td>9.17</td>\n",
       "      <td>90</td>\n",
       "    </tr>\n",
       "    <tr>\n",
       "      <th>1</th>\n",
       "      <td>Albany</td>\n",
       "      <td>1586804651</td>\n",
       "      <td>US</td>\n",
       "      <td>42.60</td>\n",
       "      <td>-73.97</td>\n",
       "      <td>60.39</td>\n",
       "      <td>63.00</td>\n",
       "      <td>82</td>\n",
       "      <td>21.92</td>\n",
       "      <td>90</td>\n",
       "    </tr>\n",
       "    <tr>\n",
       "      <th>2</th>\n",
       "      <td>Peniche</td>\n",
       "      <td>1586804898</td>\n",
       "      <td>PT</td>\n",
       "      <td>39.36</td>\n",
       "      <td>-9.38</td>\n",
       "      <td>56.28</td>\n",
       "      <td>59.00</td>\n",
       "      <td>62</td>\n",
       "      <td>4.70</td>\n",
       "      <td>40</td>\n",
       "    </tr>\n",
       "    <tr>\n",
       "      <th>3</th>\n",
       "      <td>Buchanan</td>\n",
       "      <td>1586804870</td>\n",
       "      <td>LR</td>\n",
       "      <td>5.88</td>\n",
       "      <td>-10.05</td>\n",
       "      <td>84.20</td>\n",
       "      <td>84.20</td>\n",
       "      <td>83</td>\n",
       "      <td>9.17</td>\n",
       "      <td>40</td>\n",
       "    </tr>\n",
       "    <tr>\n",
       "      <th>4</th>\n",
       "      <td>Uvira</td>\n",
       "      <td>1586804898</td>\n",
       "      <td>CD</td>\n",
       "      <td>-3.41</td>\n",
       "      <td>29.15</td>\n",
       "      <td>74.12</td>\n",
       "      <td>74.12</td>\n",
       "      <td>50</td>\n",
       "      <td>0.98</td>\n",
       "      <td>97</td>\n",
       "    </tr>\n",
       "    <tr>\n",
       "      <th>...</th>\n",
       "      <td>...</td>\n",
       "      <td>...</td>\n",
       "      <td>...</td>\n",
       "      <td>...</td>\n",
       "      <td>...</td>\n",
       "      <td>...</td>\n",
       "      <td>...</td>\n",
       "      <td>...</td>\n",
       "      <td>...</td>\n",
       "      <td>...</td>\n",
       "    </tr>\n",
       "    <tr>\n",
       "      <th>548</th>\n",
       "      <td>Arvika</td>\n",
       "      <td>1586805629</td>\n",
       "      <td>SE</td>\n",
       "      <td>59.66</td>\n",
       "      <td>12.59</td>\n",
       "      <td>35.96</td>\n",
       "      <td>37.00</td>\n",
       "      <td>37</td>\n",
       "      <td>17.22</td>\n",
       "      <td>93</td>\n",
       "    </tr>\n",
       "    <tr>\n",
       "      <th>549</th>\n",
       "      <td>Oussouye</td>\n",
       "      <td>1586805629</td>\n",
       "      <td>SN</td>\n",
       "      <td>12.48</td>\n",
       "      <td>-16.55</td>\n",
       "      <td>82.40</td>\n",
       "      <td>82.40</td>\n",
       "      <td>65</td>\n",
       "      <td>6.93</td>\n",
       "      <td>72</td>\n",
       "    </tr>\n",
       "    <tr>\n",
       "      <th>550</th>\n",
       "      <td>Bubaque</td>\n",
       "      <td>1586805630</td>\n",
       "      <td>GW</td>\n",
       "      <td>11.28</td>\n",
       "      <td>-15.83</td>\n",
       "      <td>80.01</td>\n",
       "      <td>80.01</td>\n",
       "      <td>71</td>\n",
       "      <td>14.18</td>\n",
       "      <td>4</td>\n",
       "    </tr>\n",
       "    <tr>\n",
       "      <th>551</th>\n",
       "      <td>Xichang</td>\n",
       "      <td>1586805630</td>\n",
       "      <td>CN</td>\n",
       "      <td>27.90</td>\n",
       "      <td>102.26</td>\n",
       "      <td>53.01</td>\n",
       "      <td>53.01</td>\n",
       "      <td>62</td>\n",
       "      <td>1.61</td>\n",
       "      <td>100</td>\n",
       "    </tr>\n",
       "    <tr>\n",
       "      <th>552</th>\n",
       "      <td>Zhuhai</td>\n",
       "      <td>1586805630</td>\n",
       "      <td>CN</td>\n",
       "      <td>22.28</td>\n",
       "      <td>113.57</td>\n",
       "      <td>67.03</td>\n",
       "      <td>68.00</td>\n",
       "      <td>63</td>\n",
       "      <td>6.13</td>\n",
       "      <td>20</td>\n",
       "    </tr>\n",
       "  </tbody>\n",
       "</table>\n",
       "<p>553 rows × 10 columns</p>\n",
       "</div>"
      ],
      "text/plain": [
       "         City        Date Country    Lat     Lon   Temp  Max Temp  Humidity  \\\n",
       "0      Barrow  1586804898      US  71.29 -156.79  23.00     23.00        92   \n",
       "1      Albany  1586804651      US  42.60  -73.97  60.39     63.00        82   \n",
       "2     Peniche  1586804898      PT  39.36   -9.38  56.28     59.00        62   \n",
       "3    Buchanan  1586804870      LR   5.88  -10.05  84.20     84.20        83   \n",
       "4       Uvira  1586804898      CD  -3.41   29.15  74.12     74.12        50   \n",
       "..        ...         ...     ...    ...     ...    ...       ...       ...   \n",
       "548    Arvika  1586805629      SE  59.66   12.59  35.96     37.00        37   \n",
       "549  Oussouye  1586805629      SN  12.48  -16.55  82.40     82.40        65   \n",
       "550   Bubaque  1586805630      GW  11.28  -15.83  80.01     80.01        71   \n",
       "551   Xichang  1586805630      CN  27.90  102.26  53.01     53.01        62   \n",
       "552    Zhuhai  1586805630      CN  22.28  113.57  67.03     68.00        63   \n",
       "\n",
       "     Wind Speed  Cloudiness  \n",
       "0          9.17          90  \n",
       "1         21.92          90  \n",
       "2          4.70          40  \n",
       "3          9.17          40  \n",
       "4          0.98          97  \n",
       "..          ...         ...  \n",
       "548       17.22          93  \n",
       "549        6.93          72  \n",
       "550       14.18           4  \n",
       "551        1.61         100  \n",
       "552        6.13          20  \n",
       "\n",
       "[553 rows x 10 columns]"
      ]
     },
     "execution_count": 6,
     "metadata": {},
     "output_type": "execute_result"
    }
   ],
   "source": [
    "cities_df = pd.DataFrame({\"City\":city_name,\n",
    "                        \"Date\":date,\n",
    "                        \"Country\":country,\n",
    "                        \"Lat\":lat,\n",
    "                        \"Lon\":lon,\n",
    "                        \"Temp\":temp,\n",
    "                        \"Max Temp\":maxTemp, \n",
    "                        \"Humidity\":humidity,\n",
    "                        \"Wind Speed\":windSpeed,\n",
    "                        \"Cloudiness\":cloudiness\n",
    "                                         })\n",
    "cities_df"
   ]
  },
  {
   "cell_type": "code",
   "execution_count": 7,
   "metadata": {},
   "outputs": [],
   "source": [
    "#Exporting data to csv file\n",
    "cities_df.to_csv(\"cities_weather.csv\")"
   ]
  },
  {
   "cell_type": "code",
   "execution_count": 8,
   "metadata": {},
   "outputs": [
    {
     "data": {
      "text/html": [
       "<div>\n",
       "<style scoped>\n",
       "    .dataframe tbody tr th:only-of-type {\n",
       "        vertical-align: middle;\n",
       "    }\n",
       "\n",
       "    .dataframe tbody tr th {\n",
       "        vertical-align: top;\n",
       "    }\n",
       "\n",
       "    .dataframe thead th {\n",
       "        text-align: right;\n",
       "    }\n",
       "</style>\n",
       "<table border=\"1\" class=\"dataframe\">\n",
       "  <thead>\n",
       "    <tr style=\"text-align: right;\">\n",
       "      <th></th>\n",
       "      <th>City</th>\n",
       "      <th>Date</th>\n",
       "      <th>Country</th>\n",
       "      <th>Lat</th>\n",
       "      <th>Lon</th>\n",
       "      <th>Temp</th>\n",
       "      <th>Max Temp</th>\n",
       "      <th>Humidity</th>\n",
       "      <th>Wind Speed</th>\n",
       "      <th>Cloudiness</th>\n",
       "    </tr>\n",
       "  </thead>\n",
       "  <tbody>\n",
       "    <tr>\n",
       "      <th>0</th>\n",
       "      <td>Barrow</td>\n",
       "      <td>2020-04-13</td>\n",
       "      <td>US</td>\n",
       "      <td>71.29</td>\n",
       "      <td>-156.79</td>\n",
       "      <td>23.00</td>\n",
       "      <td>23.00</td>\n",
       "      <td>92</td>\n",
       "      <td>9.17</td>\n",
       "      <td>90</td>\n",
       "    </tr>\n",
       "    <tr>\n",
       "      <th>1</th>\n",
       "      <td>Albany</td>\n",
       "      <td>2020-04-13</td>\n",
       "      <td>US</td>\n",
       "      <td>42.60</td>\n",
       "      <td>-73.97</td>\n",
       "      <td>60.39</td>\n",
       "      <td>63.00</td>\n",
       "      <td>82</td>\n",
       "      <td>21.92</td>\n",
       "      <td>90</td>\n",
       "    </tr>\n",
       "    <tr>\n",
       "      <th>2</th>\n",
       "      <td>Peniche</td>\n",
       "      <td>2020-04-13</td>\n",
       "      <td>PT</td>\n",
       "      <td>39.36</td>\n",
       "      <td>-9.38</td>\n",
       "      <td>56.28</td>\n",
       "      <td>59.00</td>\n",
       "      <td>62</td>\n",
       "      <td>4.70</td>\n",
       "      <td>40</td>\n",
       "    </tr>\n",
       "    <tr>\n",
       "      <th>3</th>\n",
       "      <td>Buchanan</td>\n",
       "      <td>2020-04-13</td>\n",
       "      <td>LR</td>\n",
       "      <td>5.88</td>\n",
       "      <td>-10.05</td>\n",
       "      <td>84.20</td>\n",
       "      <td>84.20</td>\n",
       "      <td>83</td>\n",
       "      <td>9.17</td>\n",
       "      <td>40</td>\n",
       "    </tr>\n",
       "    <tr>\n",
       "      <th>4</th>\n",
       "      <td>Uvira</td>\n",
       "      <td>2020-04-13</td>\n",
       "      <td>CD</td>\n",
       "      <td>-3.41</td>\n",
       "      <td>29.15</td>\n",
       "      <td>74.12</td>\n",
       "      <td>74.12</td>\n",
       "      <td>50</td>\n",
       "      <td>0.98</td>\n",
       "      <td>97</td>\n",
       "    </tr>\n",
       "  </tbody>\n",
       "</table>\n",
       "</div>"
      ],
      "text/plain": [
       "       City        Date Country    Lat     Lon   Temp  Max Temp  Humidity  \\\n",
       "0    Barrow  2020-04-13      US  71.29 -156.79  23.00     23.00        92   \n",
       "1    Albany  2020-04-13      US  42.60  -73.97  60.39     63.00        82   \n",
       "2   Peniche  2020-04-13      PT  39.36   -9.38  56.28     59.00        62   \n",
       "3  Buchanan  2020-04-13      LR   5.88  -10.05  84.20     84.20        83   \n",
       "4     Uvira  2020-04-13      CD  -3.41   29.15  74.12     74.12        50   \n",
       "\n",
       "   Wind Speed  Cloudiness  \n",
       "0        9.17          90  \n",
       "1       21.92          90  \n",
       "2        4.70          40  \n",
       "3        9.17          40  \n",
       "4        0.98          97  "
      ]
     },
     "execution_count": 8,
     "metadata": {},
     "output_type": "execute_result"
    }
   ],
   "source": [
    "#Convert date from UNIX to normal timestamp using datetime\n",
    "ts = cities_df[\"Date\"][0]\n",
    "convert_ts = datetime.utcfromtimestamp(ts)\n",
    "short_ts = convert_ts.date()\n",
    "cities_df[\"Date\"]= short_ts\n",
    "\n",
    "\n",
    "cities_df.head()\n"
   ]
  },
  {
   "cell_type": "markdown",
   "metadata": {},
   "source": [
    "### Plotting the Data\n",
    "* Use proper labeling of the plots using plot titles (including date of analysis) and axes labels.\n",
    "* Save the plotted figures as .pngs."
   ]
  },
  {
   "cell_type": "markdown",
   "metadata": {},
   "source": [
    "####Latitude vs. Temperature Plot"
   ]
  },
  {
   "cell_type": "code",
   "execution_count": 9,
   "metadata": {
    "scrolled": true
   },
   "outputs": [
    {
     "data": {
      "image/png": "[encoded data removed]",
      "text/plain": [
       "<Figure size 432x288 with 1 Axes>"
      ]
     },
     "metadata": {
      "needs_background": "light"
     },
     "output_type": "display_data"
    }
   ],
   "source": [
    "plt.scatter(cities_df[\"Lat\"], cities_df[\"Temp\"], marker = \"o\", color = \"blue\", edgecolor = \"black\")\n",
    "plt.grid()\n",
    "plt.title(f\"Latitude vs. Temperature (F) {short_ts}\")\n",
    "plt.xlabel('Latitude')\n",
    "plt.ylabel('Temperature (F)')\n",
    "plt.savefig(\"LatVsTempPlot\")\n",
    "plt.show()"
   ]
  },
  {
   "cell_type": "markdown",
   "metadata": {},
   "source": [
    "Observations (Correlation Exists)\n",
    "Based on the sample data and corresponding graph above, we can see that Temperature increases as the Latitude of any given location approaches 0(the equator), and inversely, the temperature decreases as we move away from the equator. "
   ]
  },
  {
   "cell_type": "markdown",
   "metadata": {},
   "source": [
    "#### Latitude vs. Humidity Plot"
   ]
  },
  {
   "cell_type": "code",
   "execution_count": 10,
   "metadata": {},
   "outputs": [
    {
     "data": {
      "image/png": "[encoded data removed]",
      "text/plain": [
       "<Figure size 432x288 with 1 Axes>"
      ]
     },
     "metadata": {
      "needs_background": "light"
     },
     "output_type": "display_data"
    }
   ],
   "source": [
    "plt.scatter(cities_df[\"Lat\"], cities_df[\"Humidity\"], marker = \"o\", color = \"blue\", edgecolor = \"black\")\n",
    "plt.grid()\n",
    "plt.title(f\"Latitude vs. Humidity {short_ts}\")\n",
    "plt.xlabel('Latitude')\n",
    "plt.ylabel('Humidity')\n",
    "plt.savefig(\"LatVsHumidityPlot\")\n",
    "plt.show()"
   ]
  },
  {
   "cell_type": "markdown",
   "metadata": {},
   "source": [
    "Observations (No Correlation)\n",
    "Based on the graph above, there does not seem to be any obvious correlation between latitude and humidity levels in this sample. "
   ]
  },
  {
   "cell_type": "markdown",
   "metadata": {},
   "source": [
    "#### Latitude vs. Cloudiness Plot"
   ]
  },
  {
   "cell_type": "code",
   "execution_count": 11,
   "metadata": {},
   "outputs": [
    {
     "data": {
      "image/png": "[encoded data removed]",
      "text/plain": [
       "<Figure size 432x288 with 1 Axes>"
      ]
     },
     "metadata": {
      "needs_background": "light"
     },
     "output_type": "display_data"
    }
   ],
   "source": [
    "plt.scatter(cities_df[\"Lat\"], cities_df[\"Cloudiness\"], marker = \"o\", color = \"blue\", edgecolor = \"black\")\n",
    "plt.grid()\n",
    "plt.title(f\"Latitude vs. Cloudiness {short_ts}\")\n",
    "plt.xlabel('Latitude')\n",
    "plt.ylabel('Cloudiness')\n",
    "plt.savefig(\"LatVsCloudinessPlot\")\n",
    "plt.show()"
   ]
  },
  {
   "cell_type": "markdown",
   "metadata": {},
   "source": [
    "Observations (No correlation)\n",
    "In this sample, there does not appear to be any correlation between latitude and cloudiness. "
   ]
  },
  {
   "cell_type": "markdown",
   "metadata": {},
   "source": [
    "#### Latitude vs. Wind Speed Plot"
   ]
  },
  {
   "cell_type": "code",
   "execution_count": 12,
   "metadata": {},
   "outputs": [
    {
     "data": {
      "image/png": "[encoded data removed]",
      "text/plain": [
       "<Figure size 432x288 with 1 Axes>"
      ]
     },
     "metadata": {
      "needs_background": "light"
     },
     "output_type": "display_data"
    }
   ],
   "source": [
    "plt.scatter(cities_df[\"Lat\"], cities_df[\"Wind Speed\"], marker = \"o\", color = \"blue\", edgecolor = \"black\")\n",
    "plt.grid()\n",
    "plt.title(f\"Latitude vs. Wind Speed {short_ts}\")\n",
    "plt.xlabel('Latitude')\n",
    "plt.ylabel('Wind Speed')\n",
    "plt.savefig(\"LatVsWindSpeedPlot\")\n",
    "plt.show()"
   ]
  },
  {
   "cell_type": "markdown",
   "metadata": {},
   "source": [
    "Observations (No Correlation)\n",
    "This sample does not show any sign of correlation between latitude and wind speed. "
   ]
  },
  {
   "cell_type": "markdown",
   "metadata": {},
   "source": [
    "## Linear Regression"
   ]
  },
  {
   "cell_type": "code",
   "execution_count": 13,
   "metadata": {},
   "outputs": [],
   "source": [
    "# OPTIONAL: Create a function to create Linear Regression plots\n"
   ]
  },
  {
   "cell_type": "code",
   "execution_count": 14,
   "metadata": {},
   "outputs": [],
   "source": [
    "# Create Northern and Southern Hemisphere DataFrames\n",
    "nh_df = cities_df.loc[pd.to_numeric(cities_df[\"Lat\"]).astype(float) > 0, :]\n",
    "sh_df = cities_df.loc[pd.to_numeric(cities_df[\"Lat\"]).astype(float) < 0, :]"
   ]
  },
  {
   "cell_type": "markdown",
   "metadata": {},
   "source": [
    "####  Northern Hemisphere - Max Temp vs. Latitude Linear Regression"
   ]
  },
  {
   "cell_type": "code",
   "execution_count": 25,
   "metadata": {},
   "outputs": [
    {
     "name": "stdout",
     "output_type": "stream",
     "text": [
      "y = -1.05x +95.43\n",
      "The r-squared is: 0.7864875174736595\n"
     ]
    },
    {
     "data": {
      "image/png": "[encoded data removed]",
      "text/plain": [
       "<Figure size 432x288 with 1 Axes>"
      ]
     },
     "metadata": {
      "needs_background": "light"
     },
     "output_type": "display_data"
    }
   ],
   "source": [
    "# Create x- and y-values containing relevant data\n",
    "x_values = pd.to_numeric(nh_df['Lat']).astype(float)\n",
    "y_values = pd.to_numeric(nh_df['Max Temp']).astype(float)\n",
    "\n",
    "# Perform a linear regression on temperature vs. latitude\n",
    "(slope, intercept, rvalue, pvalue, stderr) = linregress(x_values, y_values)\n",
    "\n",
    "# Get regression values\n",
    "regress_values = x_values * slope + intercept\n",
    "\n",
    "# Create line equation string\n",
    "line_eq = \"y = \" + str(round(slope,2)) + \"x +\" + str(round(intercept,2))\n",
    "print(line_eq)\n",
    "\n",
    "plt.scatter(x_values,y_values)\n",
    "plt.plot(x_values,regress_values,\"r-\")\n",
    "\n",
    "# Label plot and annotate the line equation\n",
    "plt.xlabel('Latitude')\n",
    "plt.ylabel('Max Temperature')\n",
    "plt.title('Northern Hemisphere: Max Temp vs. Latitude Linear Regression')\n",
    "#plt.text(0,0,line_eq,fontsize=15,color=\"red\")\n",
    "\n",
    "# Print r square value\n",
    "print(f\"The r-squared is: {rvalue**2}\")\n",
    "\n",
    "# Save figure image\n",
    "plt.savefig(\"Lat_vs_MaxTemp_NH_LinRegress\")\n",
    "\n",
    "# Show plot\n",
    "plt.show()"
   ]
  },
  {
   "cell_type": "markdown",
   "metadata": {},
   "source": [
    "####  Southern Hemisphere - Max Temp vs. Latitude Linear Regression"
   ]
  },
  {
   "cell_type": "code",
   "execution_count": 26,
   "metadata": {},
   "outputs": [
    {
     "name": "stdout",
     "output_type": "stream",
     "text": [
      "y = 0.65x +85.31\n",
      "The r-squared is: 0.5916019319798785\n"
     ]
    },
    {
     "data": {
      "image/png": "[encoded data removed]",
      "text/plain": [
       "<Figure size 432x288 with 1 Axes>"
      ]
     },
     "metadata": {
      "needs_background": "light"
     },
     "output_type": "display_data"
    }
   ],
   "source": [
    "# Create x- and y-values containing relevant data\n",
    "x_values = pd.to_numeric(sh_df['Lat']).astype(float)\n",
    "y_values = pd.to_numeric(sh_df['Max Temp']).astype(float)\n",
    "\n",
    "# Perform a linear regression on temperature vs. latitude\n",
    "(slope, intercept, rvalue, pvalue, stderr) = linregress(x_values, y_values)\n",
    "\n",
    "# Get regression values\n",
    "regress_values = x_values * slope + intercept\n",
    "\n",
    "# Create line equation string\n",
    "line_eq = \"y = \" + str(round(slope,2)) + \"x +\" + str(round(intercept,2))\n",
    "print(line_eq)\n",
    "\n",
    "plt.scatter(x_values,y_values)\n",
    "plt.plot(x_values,regress_values,\"r-\")\n",
    "\n",
    "# Label plot and annotate the line equation\n",
    "plt.xlabel('Latitude')\n",
    "plt.ylabel('Max Temperature')\n",
    "plt.title('Southern Hemisphere: Max Temp vs. Latitude Linear Regression')\n",
    "#plt.annotate(line_eq,(0,0),fontsize=15,color=\"red\")\n",
    "\n",
    "# Print r square value\n",
    "print(f\"The r-squared is: {rvalue**2}\")\n",
    "\n",
    "# Save figure image\n",
    "plt.savefig(\"Lat_vs_MaxTemp_SH_LinRegress\")\n",
    "\n",
    "# Show plot\n",
    "plt.show()"
   ]
  },
  {
   "cell_type": "markdown",
   "metadata": {},
   "source": [
    "Observations- Strong correlation for both graphs. \n",
    "This pair of graphs show that there is a strong relationship between latitude and Max Temperature; as the latitude approaches the equator, the max temperature increases; and as you move away from the equator, the max temperature decreases. \n"
   ]
  },
  {
   "cell_type": "markdown",
   "metadata": {},
   "source": [
    "####  Northern Hemisphere - Humidity (%) vs. Latitude Linear Regression"
   ]
  },
  {
   "cell_type": "code",
   "execution_count": 27,
   "metadata": {},
   "outputs": [
    {
     "name": "stdout",
     "output_type": "stream",
     "text": [
      "y = 0.41x +49.61\n",
      "The r-squared is: 0.12732588741922965\n"
     ]
    },
    {
     "data": {
      "image/png": "[encoded data removed]",
      "text/plain": [
       "<Figure size 432x288 with 1 Axes>"
      ]
     },
     "metadata": {
      "needs_background": "light"
     },
     "output_type": "display_data"
    }
   ],
   "source": [
    "# Create x- and y-values containing relevant data\n",
    "x_values = pd.to_numeric(nh_df['Lat']).astype(float)\n",
    "y_values = pd.to_numeric(nh_df['Humidity']).astype(float)\n",
    "\n",
    "# Perform a linear regression on temperature vs. latitude\n",
    "(slope, intercept, rvalue, pvalue, stderr) = linregress(x_values, y_values)\n",
    "\n",
    "# Get regression values\n",
    "regress_values = x_values * slope + intercept\n",
    "\n",
    "# Create line equation string\n",
    "line_eq = \"y = \" + str(round(slope,2)) + \"x +\" + str(round(intercept,2))\n",
    "print(line_eq)\n",
    "\n",
    "plt.scatter(x_values,y_values)\n",
    "plt.plot(x_values,regress_values,\"r-\")\n",
    "\n",
    "# Label plot and annotate the line equation\n",
    "plt.xlabel('Latitude')\n",
    "plt.ylabel('Humidity')\n",
    "plt.title('Northern Hemisphere: Humidity(%) vs. Latitude Linear Regression')\n",
    "#plt.annotate(line_eq,(0,0),fontsize=15,color=\"red\")\n",
    "\n",
    "# Print r square value\n",
    "print(f\"The r-squared is: {rvalue**2}\")\n",
    "\n",
    "# Save figure image\n",
    "plt.savefig(\"Lat_vs_Humidity_NH_LinRegress\")\n",
    "\n",
    "# Show plot\n",
    "plt.show()"
   ]
  },
  {
   "cell_type": "markdown",
   "metadata": {},
   "source": [
    "####  Southern Hemisphere - Humidity (%) vs. Latitude Linear Regression"
   ]
  },
  {
   "cell_type": "code",
   "execution_count": 28,
   "metadata": {},
   "outputs": [
    {
     "name": "stdout",
     "output_type": "stream",
     "text": [
      "y = 0.19x +74.74\n",
      "The r-squared is: 0.019931880696850788\n"
     ]
    },
    {
     "data": {
      "image/png": "[encoded data removed]",
      "text/plain": [
       "<Figure size 432x288 with 1 Axes>"
      ]
     },
     "metadata": {
      "needs_background": "light"
     },
     "output_type": "display_data"
    }
   ],
   "source": [
    "# Create x- and y-values containing relevant data\n",
    "x_values = pd.to_numeric(sh_df['Lat']).astype(float)\n",
    "y_values = pd.to_numeric(sh_df['Humidity']).astype(float)\n",
    "\n",
    "# Perform a linear regression on temperature vs. latitude\n",
    "(slope, intercept, rvalue, pvalue, stderr) = linregress(x_values, y_values)\n",
    "\n",
    "# Get regression values\n",
    "regress_values = x_values * slope + intercept\n",
    "\n",
    "# Create line equation string\n",
    "line_eq = \"y = \" + str(round(slope,2)) + \"x +\" + str(round(intercept,2))\n",
    "print(line_eq)\n",
    "\n",
    "plt.scatter(x_values,y_values)\n",
    "plt.plot(x_values,regress_values,\"r-\")\n",
    "\n",
    "# Label plot and annotate the line equation\n",
    "plt.xlabel('Latitude')\n",
    "plt.ylabel('Humidity (%)')\n",
    "plt.title('Southern Hemisphere: Humidity vs. Latitude Linear Regression')\n",
    "#plt.annotate(line_eq,(0,0),fontsize=15,color=\"red\")\n",
    "\n",
    "# Print r square value\n",
    "print(f\"The r-squared is: {rvalue**2}\")\n",
    "\n",
    "# Save figure image\n",
    "plt.savefig(\"Lat_vs_Humidity_SH_LinRegress\")\n",
    "\n",
    "# Show plot\n",
    "plt.show()"
   ]
  },
  {
   "cell_type": "markdown",
   "metadata": {},
   "source": [
    "Observations- No correlation. This pair of graphs does not show a correlation; in the northern hemisphere, the humidity appears to increase when moving away from the equator, while the opposite is true for the southern hemisphere. However, a large portion of the data does not match either trendline and prevents a valid conclusion from being drawn based on this sample. "
   ]
  },
  {
   "cell_type": "markdown",
   "metadata": {},
   "source": [
    "####  Northern Hemisphere - Cloudiness (%) vs. Latitude Linear Regression"
   ]
  },
  {
   "cell_type": "code",
   "execution_count": 29,
   "metadata": {},
   "outputs": [
    {
     "name": "stdout",
     "output_type": "stream",
     "text": [
      "y = 0.36x +41.97\n",
      "The r-squared is: 0.04221535747425853\n"
     ]
    },
    {
     "data": {
      "image/png": "[encoded data removed]",
      "text/plain": [
       "<Figure size 432x288 with 1 Axes>"
      ]
     },
     "metadata": {
      "needs_background": "light"
     },
     "output_type": "display_data"
    }
   ],
   "source": [
    "# Create x- and y-values containing relevant data\n",
    "x_values = pd.to_numeric(nh_df['Lat']).astype(float)\n",
    "y_values = pd.to_numeric(nh_df['Cloudiness']).astype(float)\n",
    "\n",
    "# Perform a linear regression on temperature vs. latitude\n",
    "(slope, intercept, rvalue, pvalue, stderr) = linregress(x_values, y_values)\n",
    "\n",
    "# Get regression values\n",
    "regress_values = x_values * slope + intercept\n",
    "\n",
    "# Create line equation string\n",
    "line_eq = \"y = \" + str(round(slope,2)) + \"x +\" + str(round(intercept,2))\n",
    "print(line_eq)\n",
    "\n",
    "plt.scatter(x_values,y_values)\n",
    "plt.plot(x_values,regress_values,\"r-\")\n",
    "\n",
    "# Label plot and annotate the line equation\n",
    "plt.xlabel('Latitude')\n",
    "plt.ylabel('Cloudiness (%)')\n",
    "plt.title('Northern Hemisphere: Cloudiness vs. Latitude Linear Regression')\n",
    "#plt.annotate(line_eq,(0,0),fontsize=15,color=\"red\")\n",
    "\n",
    "# Print r square value\n",
    "print(f\"The r-squared is: {rvalue**2}\")\n",
    "\n",
    "# Save figure image\n",
    "plt.savefig(\"Lat_vs_Cloudiness_NH_LinRegress\")\n",
    "\n",
    "# Show plot\n",
    "plt.show()"
   ]
  },
  {
   "cell_type": "markdown",
   "metadata": {},
   "source": [
    "####  Southern Hemisphere - Cloudiness (%) vs. Latitude Linear Regression"
   ]
  },
  {
   "cell_type": "code",
   "execution_count": 30,
   "metadata": {},
   "outputs": [
    {
     "name": "stdout",
     "output_type": "stream",
     "text": [
      "y = 0.43x +67.95\n",
      "The r-squared is: 0.02915153722147162\n"
     ]
    },
    {
     "data": {
      "image/png": "[encoded data removed]",
      "text/plain": [
       "<Figure size 432x288 with 1 Axes>"
      ]
     },
     "metadata": {
      "needs_background": "light"
     },
     "output_type": "display_data"
    }
   ],
   "source": [
    "# Create x- and y-values containing relevant data\n",
    "x_values = pd.to_numeric(sh_df['Lat']).astype(float)\n",
    "y_values = pd.to_numeric(sh_df['Cloudiness']).astype(float)\n",
    "\n",
    "# Perform a linear regression on temperature vs. latitude\n",
    "(slope, intercept, rvalue, pvalue, stderr) = linregress(x_values, y_values)\n",
    "\n",
    "# Get regression values\n",
    "regress_values = x_values * slope + intercept\n",
    "\n",
    "# Create line equation string\n",
    "line_eq = \"y = \" + str(round(slope,2)) + \"x +\" + str(round(intercept,2))\n",
    "print(line_eq)\n",
    "\n",
    "plt.scatter(x_values,y_values)\n",
    "plt.plot(x_values,regress_values,\"r-\")\n",
    "\n",
    "# Label plot and annotate the line equation\n",
    "plt.xlabel('Latitude')\n",
    "plt.ylabel('Cloudiness (%)')\n",
    "plt.title('Southern Hemisphere: Cloudiness vs. Latitude Linear Regression')\n",
    "#plt.annotate(line_eq,(0,0),fontsize=15,color=\"red\")\n",
    "\n",
    "# Print r square value\n",
    "print(f\"The r-squared is: {rvalue**2}\")\n",
    "\n",
    "# Save figure image\n",
    "plt.savefig(\"Lat_vs_Cloudiness_SH_LinRegress\")\n",
    "\n",
    "# Show plot\n",
    "plt.show()"
   ]
  },
  {
   "cell_type": "markdown",
   "metadata": {},
   "source": [
    "Observations- These two graphs do not show any conclusive correlation between cloudiness and latitude. "
   ]
  },
  {
   "cell_type": "markdown",
   "metadata": {},
   "source": [
    "####  Northern Hemisphere - Wind Speed (mph) vs. Latitude Linear Regression"
   ]
  },
  {
   "cell_type": "code",
   "execution_count": 31,
   "metadata": {},
   "outputs": [
    {
     "name": "stdout",
     "output_type": "stream",
     "text": [
      "y = 0.03x +7.69\n",
      "The r-squared is: 0.009788345284594904\n"
     ]
    },
    {
     "data": {
      "image/png": "[encoded data removed]",
      "text/plain": [
       "<Figure size 432x288 with 1 Axes>"
      ]
     },
     "metadata": {
      "needs_background": "light"
     },
     "output_type": "display_data"
    }
   ],
   "source": [
    "# Create x- and y-values containing relevant data\n",
    "x_values = pd.to_numeric(nh_df['Lat']).astype(float)\n",
    "y_values = pd.to_numeric(nh_df['Wind Speed']).astype(float)\n",
    "\n",
    "# Perform a linear regression on temperature vs. latitude\n",
    "(slope, intercept, rvalue, pvalue, stderr) = linregress(x_values, y_values)\n",
    "\n",
    "# Get regression values\n",
    "regress_values = x_values * slope + intercept\n",
    "\n",
    "# Create line equation string\n",
    "line_eq = \"y = \" + str(round(slope,2)) + \"x +\" + str(round(intercept,2))\n",
    "print(line_eq)\n",
    "\n",
    "plt.scatter(x_values,y_values)\n",
    "plt.plot(x_values,regress_values,\"r-\")\n",
    "\n",
    "# Label plot and annotate the line equation\n",
    "plt.xlabel('Latitude')\n",
    "plt.ylabel('Wind Speed (mph)')\n",
    "plt.title('Northern Hemisphere: Wind Speed vs. Latitude Linear Regression')\n",
    "#plt.annotate(line_eq,(0,0),fontsize=15,color=\"red\")\n",
    "\n",
    "# Print r square value\n",
    "print(f\"The r-squared is: {rvalue**2}\")\n",
    "\n",
    "# Save figure image\n",
    "plt.savefig(\"Lat_vs_WindSpeed_NH_LinRegress\")\n",
    "\n",
    "# Show plot\n",
    "plt.show()"
   ]
  },
  {
   "cell_type": "markdown",
   "metadata": {},
   "source": [
    "####  Southern Hemisphere - Wind Speed (mph) vs. Latitude Linear Regression"
   ]
  },
  {
   "cell_type": "code",
   "execution_count": 32,
   "metadata": {},
   "outputs": [
    {
     "name": "stdout",
     "output_type": "stream",
     "text": [
      "y = -0.14x +4.57\n",
      "The r-squared is: 0.12527032685018552\n"
     ]
    },
    {
     "data": {
      "image/png": "[encoded data removed]",
      "text/plain": [
       "<Figure size 432x288 with 1 Axes>"
      ]
     },
     "metadata": {
      "needs_background": "light"
     },
     "output_type": "display_data"
    }
   ],
   "source": [
    "# Create x- and y-values containing relevant data\n",
    "x_values = pd.to_numeric(sh_df['Lat']).astype(float)\n",
    "y_values = pd.to_numeric(sh_df['Wind Speed']).astype(float)\n",
    "\n",
    "# Perform a linear regression on temperature vs. latitude\n",
    "(slope, intercept, rvalue, pvalue, stderr) = linregress(x_values, y_values)\n",
    "\n",
    "# Get regression values\n",
    "regress_values = x_values * slope + intercept\n",
    "\n",
    "# Create line equation string\n",
    "line_eq = \"y = \" + str(round(slope,2)) + \"x +\" + str(round(intercept,2))\n",
    "print(line_eq)\n",
    "\n",
    "# Print r square value\n",
    "print(f\"The r-squared is: {rvalue**2}\")\n",
    "\n",
    "plt.scatter(x_values,y_values)\n",
    "plt.plot(x_values,regress_values,\"r-\")\n",
    "\n",
    "# Label plot and annotate the line equation\n",
    "plt.xlabel('Latitude')\n",
    "plt.ylabel('Wind Speed (mph)')\n",
    "plt.title('Southern Hemisphere: Wind Speed vs. Latitude Linear Regression')\n",
    "#plt.annotate(line_eq,(0,0),fontsize=15,color=\"red\")\n",
    "\n",
    "# Save figure image\n",
    "plt.savefig(\"Lat_vs_WindSpeed_SH_LinRegress\")\n",
    "\n",
    "\n",
    "# Show plot\n",
    "plt.show()"
   ]
  },
  {
   "cell_type": "markdown",
   "metadata": {},
   "source": [
    "Observations- These two graphs do not show any conclusive correlation between wind speed and latitude."
   ]
  },
  {
   "cell_type": "code",
   "execution_count": null,
   "metadata": {},
   "outputs": [],
   "source": []
  }
 ],
 "metadata": {
  "anaconda-cloud": {},
  "kernel_info": {
   "name": "python3"
  },
  "kernelspec": {
   "display_name": "Python 3",
   "language": "python",
   "name": "python3"
  },
  "language_info": {
   "codemirror_mode": {
    "name": "ipython",
    "version": 3
   },
   "file_extension": ".py",
   "mimetype": "text/x-python",
   "name": "python",
   "nbconvert_exporter": "python",
   "pygments_lexer": "ipython3",
   "version": "3.6.10"
  },
  "latex_envs": {
   "LaTeX_envs_menu_present": true,
   "autoclose": false,
   "autocomplete": true,
   "bibliofile": "biblio.bib",
   "cite_by": "apalike",
   "current_citInitial": 1,
   "eqLabelWithNumbers": true,
   "eqNumInitial": 1,
   "hotkeys": {
    "equation": "Ctrl-E",
    "itemize": "Ctrl-I"
   },
   "labels_anchors": false,
   "latex_user_defs": false,
   "report_style_numbering": false,
   "user_envs_cfg": false
  },
  "nteract": {
   "version": "0.12.3"
  }
 },
 "nbformat": 4,
 "nbformat_minor": 2
}
